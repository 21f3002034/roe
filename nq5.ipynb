{
 "cells": [
  {
   "cell_type": "code",
   "execution_count": 5,
   "metadata": {},
   "outputs": [],
   "source": [
    "# extract each column and its value from html tables\n",
    "import os\n",
    "import sqlite3\n",
    "from bs4 import BeautifulSoup\n",
    "from datetime import datetime\n",
    "from fastapi import FastAPI, HTTPException, UploadFile, File, Query\n",
    "from fastapi.middleware.cors import CORSMiddleware\n",
    "import requests\n",
    "import os\n",
    "import subprocess\n",
    "import json\n",
    "from typing import Dict, Any, List"
   ]
  },
  {
   "cell_type": "code",
   "execution_count": 6,
   "metadata": {},
   "outputs": [
    {
     "name": "stdout",
     "output_type": "stream",
     "text": [
      "['64660', '92672', 37.77, -122.448]\n"
     ]
    }
   ],
   "source": [
    "# Path to dataset\n",
    "import pandas as pd\n",
    "html_folder = r\"G:\\001 IITM DATASCIENCE\\002 Diploma\\TDS\\roe\\mock\\mock_roe_4\"\n",
    "db_path = os.path.join(html_folder, \"violations.db\")\n",
    "\n",
    "# Step 1: Extract business_id for postal code 94110 from HTML files\n",
    "business_ids = []\n",
    "\n",
    "for filename in os.listdir(html_folder):\n",
    "    if filename.startswith(\"biz-\") and filename.endswith(\".html\"):\n",
    "        file_path = os.path.join(html_folder, filename)\n",
    "\n",
    "        with open(file_path, \"r\", encoding=\"utf-8\") as file:\n",
    "            soup = BeautifulSoup(file, \"html.parser\")\n",
    "\n",
    "            # Loop through all tables\n",
    "            for table in soup.find_all(\"table\"):\n",
    "                rows = table.find_all(\"tr\")\n",
    "\n",
    "                business_id = None\n",
    "                postal_code = None\n",
    "                latitude = None\n",
    "                longitude = None\n",
    "\n",
    "                for row in rows:\n",
    "                    cols = row.find_all(\"td\")\n",
    "                    if len(cols) >= 2:\n",
    "                        for i in range(len(cols) - 1):\n",
    "                            if cols[i].text.strip() == \"business_id\":\n",
    "                                business_id = cols[i + 1].text.strip()\n",
    "                            if cols[i].text.strip() == \"postal_code\":\n",
    "                                postal_code = cols[i + 1].text.strip()\n",
    "                            if cols[i].text.strip() == \"latitude\":\n",
    "                                latitude = cols[i + 1].text.strip()\n",
    "                            if cols[i].text.strip() == \"longitude\":\n",
    "                                longitude = cols[i + 1].text.strip()\n",
    "                            if business_id and postal_code and latitude != \"null\" and latitude is not None and longitude != \"null\" and longitude is not None:\n",
    "                                business_ids.append([business_id, postal_code, float(latitude), float(longitude)]) \n",
    "\n",
    "print(business_ids[0])\n",
    "df_business_ids = pd.DataFrame(business_ids, columns=[\"business_id\", \"postal_code\", \"latitude\",\"longitude\"])"
   ]
  },
  {
   "cell_type": "code",
   "execution_count": 7,
   "metadata": {},
   "outputs": [],
   "source": [
    "import os\n",
    "import pdfplumber\n",
    "import sqlite3\n",
    "import pandas as pd\n",
    "from datetime import datetime"
   ]
  },
  {
   "cell_type": "code",
   "execution_count": 8,
   "metadata": {},
   "outputs": [
    {
     "name": "stdout",
     "output_type": "stream",
     "text": [
      "['54', '2013-10-08', '96', 'Routine - Unscheduled']\n"
     ]
    }
   ],
   "source": [
    "inspection_data = []\n",
    "pdf_folder =  r\"G:\\001 IITM DATASCIENCE\\002 Diploma\\TDS\\roe\\mock\\mock_roe_4\"\n",
    "for filename in os.listdir(pdf_folder):\n",
    "    if filename.startswith(\"inspections-\") and filename.endswith(\".pdf\"):\n",
    "        pdf_path = os.path.join(pdf_folder, filename)\n",
    "\n",
    "        with pdfplumber.open(pdf_path) as pdf:\n",
    "            for page in pdf.pages:\n",
    "                table = page.extract_table()\n",
    "                if table:\n",
    "                    for row in table[1:]:  # Skip header row\n",
    "                        try:\n",
    "                            business_id = row[0].strip()  # First column: business_id\n",
    "                            date_str = row[1].strip()  # Second column: date\n",
    "                            score = row[2].strip()  # Third column: score\n",
    "                            type_table = row[3].strip()  # Fourth column: type\n",
    "\n",
    "                            # Convert to datetime for proper comparison\n",
    "                            date_obj = datetime.strptime(date_str, \"%Y-%m-%d\")\n",
    "\n",
    "                            # Only keep records on or after the cutoff date\n",
    "                            if score.isdigit():\n",
    "                                inspection_data.append([business_id, date_str, score, type_table])\n",
    "\n",
    "                        except (IndexError, AttributeError, ValueError):\n",
    "                            continue  # Skip invalid rows\n",
    "\n",
    "print(inspection_data[0])\n",
    "df_inspections = pd.DataFrame(inspection_data, columns=[\"business_id\", \"date\", \"score\",\"type_table\"])"
   ]
  },
  {
   "cell_type": "code",
   "execution_count": 9,
   "metadata": {},
   "outputs": [
    {
     "name": "stdout",
     "output_type": "stream",
     "text": [
      "   business_id        date                                        description\n",
      "0           10  2014-07-29            Insufficient hot water or running water\n",
      "1           10  2014-07-29   Unapproved or unmaintained equipment or utensils\n",
      "2           10  2014-01-14  Inadequate and inaccessible handwashing facili...\n",
      "3           10  2016-05-03   Unapproved or unmaintained equipment or utensils\n",
      "4           24  2014-11-24  Inadequate and inaccessible handwashing facili...\n"
     ]
    }
   ],
   "source": [
    "conn = sqlite3.connect(db_path)\n",
    "cursor = conn.cursor()\n",
    "\n",
    "query = \"\"\"\n",
    "    SELECT business_id, date, description \n",
    "    FROM violations \n",
    "    WHERE description LIKE '%water%' \n",
    "        OR description LIKE '%unapproved%' \n",
    "        OR description LIKE '%moderate%' \n",
    "        OR description LIKE '%facilities%' \n",
    "        OR description LIKE '%unsanitary%'\n",
    "\"\"\"\n",
    "\n",
    "df_violations = pd.read_sql_query(query, conn)\n",
    "conn.close()\n",
    "\n",
    "print(df_violations.head())"
   ]
  },
  {
   "cell_type": "code",
   "execution_count": 10,
   "metadata": {},
   "outputs": [
    {
     "name": "stdout",
     "output_type": "stream",
     "text": [
      "   business_id        date                                        description\n",
      "0           10  2014-07-29            Insufficient hot water or running water\n",
      "1           10  2014-07-29   Unapproved or unmaintained equipment or utensils\n",
      "2           10  2014-01-14  Inadequate and inaccessible handwashing facili...\n",
      "3           10  2016-05-03   Unapproved or unmaintained equipment or utensils\n",
      "4           24  2014-11-24  Inadequate and inaccessible handwashing facili...\n",
      "  business_id        date score             type_table\n",
      "0          54  2013-10-08    96  Routine - Unscheduled\n",
      "1          56  2013-10-21    94  Routine - Unscheduled\n",
      "2          61  2013-10-28    92  Routine - Unscheduled\n",
      "3         101  2013-10-30   100  Routine - Unscheduled\n",
      "4         180  2013-10-21    91  Routine - Unscheduled\n",
      "  business_id postal_code  latitude  longitude\n",
      "0       64660       92672     37.77   -122.448\n",
      "1       64660       92672     37.77   -122.448\n",
      "2       64660       92672     37.77   -122.448\n",
      "3       64660       92672     37.77   -122.448\n",
      "4       64660       92672     37.77   -122.448\n"
     ]
    }
   ],
   "source": [
    "print(df_violations.head())  \n",
    "print(df_inspections.head())\n",
    "print(df_business_ids.head())"
   ]
  },
  {
   "cell_type": "code",
   "execution_count": 11,
   "metadata": {},
   "outputs": [],
   "source": [
    "df_violations['business_id'] = df_violations['business_id'].astype(str)\n",
    "df_inspections['business_id'] = df_inspections['business_id'].astype(str)\n",
    "df_business_ids['business_id'] = df_business_ids['business_id'].astype(str)"
   ]
  },
  {
   "cell_type": "code",
   "execution_count": 12,
   "metadata": {},
   "outputs": [
    {
     "name": "stdout",
     "output_type": "stream",
     "text": [
      "  business_id        date                                        description  \\\n",
      "0          10  2014-07-29            Insufficient hot water or running water   \n",
      "1          10  2014-07-29   Unapproved or unmaintained equipment or utensils   \n",
      "2          10  2014-01-14  Inadequate and inaccessible handwashing facili...   \n",
      "3          10  2016-05-03   Unapproved or unmaintained equipment or utensils   \n",
      "4          24  2014-11-24  Inadequate and inaccessible handwashing facili...   \n",
      "\n",
      "  score             type_table postal_code  latitude  longitude  \n",
      "0    94  Routine - Unscheduled       94104   37.7911   -122.404  \n",
      "1    94  Routine - Unscheduled       94104   37.7911   -122.404  \n",
      "2    92  Routine - Unscheduled       94104   37.7911   -122.404  \n",
      "3    82  Routine - Unscheduled       94104   37.7911   -122.404  \n",
      "4    96  Routine - Unscheduled       94104   37.7929   -122.403  \n"
     ]
    }
   ],
   "source": [
    "import pandas as pd\n",
    "\n",
    "# Assuming you have the data loaded as df_business_ids, df_inspections, df_violations\n",
    "\n",
    "# 1. Merge df_violations with df_inspections on business_id and date\n",
    "merged_df = pd.merge(df_violations, df_inspections, on=[\"business_id\", \"date\"], how=\"inner\")\n",
    "\n",
    "# 2. Merge the result with df_business_ids on business_id\n",
    "final_df = pd.merge(merged_df, df_business_ids, on=\"business_id\", how=\"inner\")\n",
    "\n",
    "# Display the merged result\n",
    "print(final_df.head())\n"
   ]
  },
  {
   "cell_type": "code",
   "execution_count": 13,
   "metadata": {},
   "outputs": [],
   "source": [
    "import pandas as pd\n",
    "# Ensure the score column is numeric, coercing errors to NaN\n",
    "final_df['score'] = pd.to_numeric(final_df['score'], errors='coerce')"
   ]
  },
  {
   "cell_type": "code",
   "execution_count": 16,
   "metadata": {},
   "outputs": [
    {
     "name": "stdout",
     "output_type": "stream",
     "text": [
      "  business_id        date                                        description  \\\n",
      "0          10  2014-07-29            Insufficient hot water or running water   \n",
      "1          10  2014-07-29   Unapproved or unmaintained equipment or utensils   \n",
      "2          10  2014-01-14  Inadequate and inaccessible handwashing facili...   \n",
      "3          10  2016-05-03   Unapproved or unmaintained equipment or utensils   \n",
      "4          24  2014-11-24  Inadequate and inaccessible handwashing facili...   \n",
      "\n",
      "   score             type_table postal_code  latitude  longitude  \n",
      "0     94  Routine - Unscheduled       94104   37.7911   -122.404  \n",
      "1     94  Routine - Unscheduled       94104   37.7911   -122.404  \n",
      "2     92  Routine - Unscheduled       94104   37.7911   -122.404  \n",
      "3     82  Routine - Unscheduled       94104   37.7911   -122.404  \n",
      "4     96  Routine - Unscheduled       94104   37.7929   -122.403  \n"
     ]
    }
   ],
   "source": [
    "# Drop rows where score is NaN after conversion\n",
    "final_df = final_df.dropna(subset=['score'])\n",
    "\n",
    "# List of words to filter for in the description\n",
    "keywords = ['water', 'unapproved', 'moderate', 'facilities', 'unsanitary']\n",
    "\n",
    "# Create a regular expression pattern to match any of the keywords\n",
    "pattern = '|'.join(keywords)\n",
    "\n",
    "# Filter rows where description contains any of the keywords and score is 80 or more\n",
    "filtered_data = final_df[\n",
    "    final_df['description'].str.contains(pattern, case=False, na=False) &\n",
    "    (final_df['score'] >= 80)\n",
    "]\n",
    "\n",
    "# Display the filtered result\n",
    "print(filtered_data.head())"
   ]
  },
  {
   "cell_type": "code",
   "execution_count": 18,
   "metadata": {},
   "outputs": [],
   "source": [
    "filtered_data_94110 = filtered_data[filtered_data['postal_code'] == '94110']\n"
   ]
  },
  {
   "cell_type": "code",
   "execution_count": 25,
   "metadata": {},
   "outputs": [
    {
     "name": "stdout",
     "output_type": "stream",
     "text": [
      "None\n"
     ]
    },
    {
     "name": "stderr",
     "output_type": "stream",
     "text": [
      "C:\\Users\\ksrag\\AppData\\Local\\Temp\\ipykernel_18112\\994532021.py:1: SettingWithCopyWarning: \n",
      "A value is trying to be set on a copy of a slice from a DataFrame\n",
      "\n",
      "See the caveats in the documentation: https://pandas.pydata.org/pandas-docs/stable/user_guide/indexing.html#returning-a-view-versus-a-copy\n",
      "  print(filtered_data_94110.dropna(inplace=True))\n"
     ]
    },
    {
     "data": {
      "text/plain": [
       "217"
      ]
     },
     "execution_count": 25,
     "metadata": {},
     "output_type": "execute_result"
    }
   ],
   "source": [
    "print(filtered_data_94110.dropna(inplace=True))\n",
    "unique_businesses = filtered_data_94110['business_id'].nunique()\n",
    "unique_businesses"
   ]
  }
 ],
 "metadata": {
  "kernelspec": {
   "display_name": ".venv",
   "language": "python",
   "name": "python3"
  },
  "language_info": {
   "codemirror_mode": {
    "name": "ipython",
    "version": 3
   },
   "file_extension": ".py",
   "mimetype": "text/x-python",
   "name": "python",
   "nbconvert_exporter": "python",
   "pygments_lexer": "ipython3",
   "version": "3.11.4"
  }
 },
 "nbformat": 4,
 "nbformat_minor": 2
}
