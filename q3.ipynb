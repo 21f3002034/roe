{
 "cells": [
  {
   "cell_type": "code",
   "execution_count": 2,
   "metadata": {},
   "outputs": [
    {
     "ename": "ModuleNotFoundError",
     "evalue": "No module named 'duckdb'",
     "output_type": "error",
     "traceback": [
      "\u001b[31m---------------------------------------------------------------------------\u001b[39m",
      "\u001b[31mModuleNotFoundError\u001b[39m                       Traceback (most recent call last)",
      "\u001b[36mCell\u001b[39m\u001b[36m \u001b[39m\u001b[32mIn[2]\u001b[39m\u001b[32m, line 27\u001b[39m\n\u001b[32m      1\u001b[39m \u001b[38;5;66;03m# /// script\u001b[39;00m\n\u001b[32m      2\u001b[39m \u001b[38;5;66;03m# requires-python = \">=3.13\"\u001b[39;00m\n\u001b[32m      3\u001b[39m \u001b[38;5;66;03m# dependencies = [\u001b[39;00m\n\u001b[32m   (...)\u001b[39m\u001b[32m     24\u001b[39m \u001b[38;5;66;03m# ]\u001b[39;00m\n\u001b[32m     25\u001b[39m \u001b[38;5;66;03m# ///\u001b[39;00m\n\u001b[32m---> \u001b[39m\u001b[32m27\u001b[39m \u001b[38;5;28;01mimport\u001b[39;00m\u001b[38;5;250m \u001b[39m\u001b[34;01mduckdb\u001b[39;00m\n\u001b[32m     28\u001b[39m \u001b[38;5;28;01mimport\u001b[39;00m\u001b[38;5;250m \u001b[39m\u001b[34;01mgit\u001b[39;00m\n\u001b[32m     29\u001b[39m \u001b[38;5;28;01mfrom\u001b[39;00m\u001b[38;5;250m \u001b[39m\u001b[34;01mfastapi\u001b[39;00m\u001b[38;5;250m \u001b[39m\u001b[38;5;28;01mimport\u001b[39;00m FastAPI, HTTPException, UploadFile, File, Query\n",
      "\u001b[31mModuleNotFoundError\u001b[39m: No module named 'duckdb'"
     ]
    }
   ],
   "source": [
    "import duckdb\n",
    "import git\n",
    "from fastapi import FastAPI, HTTPException, UploadFile, File, Query\n",
    "from fastapi.middleware.cors import CORSMiddleware\n",
    "import uvicorn\n",
    "import requests\n",
    "import os\n",
    "import subprocess\n",
    "import json\n",
    "\n",
    "from typing import Dict, Any, List\n",
    "from pathlib import Path\n",
    "from datetime import datetime\n",
    "import pytesseract\n",
    "from PIL import Image\n",
    "import shutil\n",
    "import duckdb\n",
    "import markdown\n",
    "import json\n",
    "import speech_recognition as sr\n",
    "\n",
    "def query_gpt(user_input: str) -> Dict[str, Any]:\n",
    "    url = \"https://aiproxy.sanand.workers.dev/openai/v1/chat/completions\"\n",
    "\n",
    "    headers = {\n",
    "        \"Content-Type\": \"application/json\",\n",
    "        \"Authorization\": f\"Bearer {AIPROXY_TOKEN}\"\n",
    "    }\n",
    "\n",
    "    data = {\n",
    "        \"model\": \"gpt-4o-mini\",\n",
    "        \"messages\": [\n",
    "            {\"role\": \"user\", \"content\": user_input},\n",
    "            {\n",
    "                \"role\": \"system\",\n",
    "                \"content\": \"\"\"\n",
    "                \n",
    "        You are an assistant capable of executing various tasks.  \n",
    "        Use the following functions for specific tasks:  \n",
    "        \n",
    "        - Use 'script_runner' for running scripts.  \n",
    "        - Use 'format_file' for formatting files.  \n",
    "        - Use 'scrape_website_data' for scraping website data.  \n",
    "        - Use 'process_csv' for handling CSV file operations.  \n",
    "        - Use 'generate_report' for creating reports.  \n",
    "        - Use 'parse_json' for parsing JSON data.  \n",
    "        - Use 'extract_text' for extracting text from documents.  \n",
    "        - Use 'translate_text' for translating text between languages.  \n",
    "        - Use 'analyze_sentiment' for performing sentiment analysis.  \n",
    "        - Use 'compress_file' for compressing files.  \n",
    "        - Use 'resize_image' for resizing images.  \n",
    "        - Use 'convert_audio' for converting audio formats.  \n",
    "        - Use 'fetch_api_data' for fetching data from APIs.  \n",
    "        - Use 'execute_sql' for running SQL queries.  \n",
    "        - Use 'send_email' for sending emails.  \n",
    "        - Use 'log_activity' for logging system activities.  \n",
    "        - Use 'validate_input' for input validation.  \n",
    "        - Use 'hash_data' for hashing sensitive data.  \n",
    "        \n",
    "        Always return relative paths for system directory locations.         Example: Use './data/<file>' instead of '/data/<file>'.  \n",
    "    \n",
    "                \"\"\"\n",
    "            }\n",
    "        ],\n",
    "        \"tools\": tools,\n",
    "        \"tool_choice\": \"auto\",\n",
    "    }\n",
    "    \n",
    "    try:\n",
    "        response = requests.post(url, headers=headers, json=data)\n",
    "        response.raise_for_status()\n",
    "        return response.json()\n",
    "    except requests.RequestException as e:\n",
    "        raise HTTPException(status_code=500, detail=f\"GPT query failed: {str(e)}\")\n"
   ]
  },
  {
   "cell_type": "code",
   "execution_count": null,
   "metadata": {},
   "outputs": [],
   "source": []
  },
  {
   "cell_type": "code",
   "execution_count": null,
   "metadata": {},
   "outputs": [],
   "source": []
  }
 ],
 "metadata": {
  "kernelspec": {
   "display_name": ".venv",
   "language": "python",
   "name": "python3"
  },
  "language_info": {
   "codemirror_mode": {
    "name": "ipython",
    "version": 3
   },
   "file_extension": ".py",
   "mimetype": "text/x-python",
   "name": "python",
   "nbconvert_exporter": "python",
   "pygments_lexer": "ipython3",
   "version": "3.11.4"
  }
 },
 "nbformat": 4,
 "nbformat_minor": 2
}
